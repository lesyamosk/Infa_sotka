{
 "cells": [
  {
   "cell_type": "code",
   "execution_count": 1,
   "id": "c0073f7e",
   "metadata": {},
   "outputs": [
    {
     "name": "stdout",
     "output_type": "stream",
     "text": [
      "Средняя точность: 0.97 (+/- 0.04)\n"
     ]
    }
   ],
   "source": [
    "from sklearn.datasets import load_iris\n",
    "from sklearn.model_selection import cross_val_score, KFold\n",
    "from sklearn.neighbors import KNeighborsClassifier\n",
    "\n",
    "# Загрузка данных Ирисов\n",
    "iris = load_iris()\n",
    "\n",
    "# Создание объекта классификатора kNN\n",
    "knn = KNeighborsClassifier(n_neighbors=3)\n",
    "\n",
    "# Определение параметров разбиения выборки на обучающую и контрольную\n",
    "kf = KFold(n_splits=5, shuffle=True, random_state=42)\n",
    "\n",
    "# Оценка работы классификатора с помощью Перекрестного контроля\n",
    "scores = cross_val_score(knn, iris.data, iris.target, cv=kf)\n",
    "\n",
    "# Вывод средней точности и стандартного отклонения оценок\n",
    "print(\"Средняя точность: %0.2f (+/- %0.2f)\" % (scores.mean(), scores.std() * 2))"
   ]
  }
 ],
 "metadata": {
  "kernelspec": {
   "display_name": "Python 3 (ipykernel)",
   "language": "python",
   "name": "python3"
  },
  "language_info": {
   "codemirror_mode": {
    "name": "ipython",
    "version": 3
   },
   "file_extension": ".py",
   "mimetype": "text/x-python",
   "name": "python",
   "nbconvert_exporter": "python",
   "pygments_lexer": "ipython3",
   "version": "3.9.7"
  }
 },
 "nbformat": 4,
 "nbformat_minor": 5
}
