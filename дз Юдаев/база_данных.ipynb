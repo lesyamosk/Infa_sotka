{
 "cells": [
  {
   "cell_type": "markdown",
   "id": "73c0b03a",
   "metadata": {},
   "source": [
    "Задание 1:\n",
    "Создайте таблицы с указанными столбцами и заполните их произвольными данными. Напоминаю, что весь текст хранится в юникоде, соответственно кирилица поддерживается. Если есть желание, то названия столбцов и данные таблицы можно вбивать на русском языке.\n",
    "\n",
    "1. Books (id, author, title, publish_year)\n",
    "2. Readers (id, name)\n",
    "3. Records (reader_id, book_id, taking_date, returning_date)\n",
    "\n",
    "Обратите внимание, что данные в таблице Records должны быть связаны с данными из других таблиц."
   ]
  },
  {
   "cell_type": "code",
   "execution_count": 1,
   "id": "3b6ee756",
   "metadata": {},
   "outputs": [],
   "source": [
    "# Импортируем библиотеку для работы с SQLite\n",
    "import sqlite3\n",
    "\n",
    "# Создаем соединение с базой данных\n",
    "conn = sqlite3.connect('library.db')\n",
    "\n",
    "# Создаем курсор для выполнения запросов\n",
    "cursor = conn.cursor()"
   ]
  },
  {
   "cell_type": "code",
   "execution_count": 2,
   "id": "0344bd22",
   "metadata": {},
   "outputs": [
    {
     "data": {
      "text/plain": [
       "<sqlite3.Cursor at 0x22703476180>"
      ]
     },
     "execution_count": 2,
     "metadata": {},
     "output_type": "execute_result"
    }
   ],
   "source": [
    "# Создаем таблицу Books\n",
    "cursor.execute('''CREATE TABLE Books\n",
    "                  (id INTEGER PRIMARY KEY,\n",
    "                   author TEXT,\n",
    "                   title TEXT,\n",
    "                   publish_year INTEGER)''')\n",
    "\n",
    "# Создаем таблицу Readers\n",
    "cursor.execute('''CREATE TABLE Readers\n",
    "                  (id INTEGER PRIMARY KEY,\n",
    "                   name TEXT)''')\n",
    "\n",
    "# Создаем таблицу Records\n",
    "cursor.execute('''CREATE TABLE Records\n",
    "                  (reader_id INTEGER,\n",
    "                   book_id INTEGER,\n",
    "                   taking_date TEXT,\n",
    "                   returning_date TEXT,\n",
    "                   FOREIGN KEY(reader_id) REFERENCES Readers(id),\n",
    "                   FOREIGN KEY(book_id) REFERENCES Books(id))''')\n"
   ]
  },
  {
   "cell_type": "code",
   "execution_count": 3,
   "id": "1acdfacc",
   "metadata": {},
   "outputs": [],
   "source": [
    "# Заполняем таблицу Books\n",
    "books_data = [(1, 'Рей Брэдбери', '451 градус по Фаренгейту', 1953),\n",
    "              (2, 'Чарльз Диккенс', 'Оливер Твист', 1838),\n",
    "              (3, 'Габриэль Гарсия Маркес', 'Сто лет одиночества', 1967),\n",
    "              (4, 'Джордж Оруэлл', '1984', 1949),\n",
    "              (5, 'Рей Брэдбери', 'Вино из одуванчиков', 1957)\n",
    "             ]\n",
    "cursor.executemany('INSERT INTO Books VALUES (?, ?, ?, ?)', books_data)\n",
    "\n",
    "# Заполняем таблицу Readers\n",
    "readers_data = [(1, 'Антон Иванов'),\n",
    "                (2, 'Илья Соболев'),\n",
    "                (3, 'Алексей Смирнов')]\n",
    "cursor.executemany('INSERT INTO Readers VALUES (?, ?)', readers_data)\n",
    "\n",
    "# Заполняем таблицу Records\n",
    "records_data = [(1, 1, '2022-04-01', '2022-04-10'),\n",
    "                (2, 2, '2022-01-02', '2022-01-09'),\n",
    "                (1, 3, '2023-03-03', None),\n",
    "                (3, 4, '2021-01-04', '2021-01-08'),\n",
    "                (1, 2, '2022-05-05', '2022-05-07'),\n",
    "                (3, 5, '2023-01-05', None)]\n",
    "cursor.executemany('INSERT INTO Records VALUES (?, ?, ?, ?)', records_data)\n",
    "# Сохраняем изменения в базе данных\n",
    "conn.commit()"
   ]
  },
  {
   "cell_type": "markdown",
   "id": "7b4d908c",
   "metadata": {},
   "source": [
    "Задание 2:\n",
    "Постройте select запросы:\n",
    "\n",
    "1. Запрос возвращает id и названия книг, находящихся в данный момент на руках у читателей.\n",
    "2. Запрос возвращает имена читателей и названия книг, которые они когда либо брали.\n",
    "3. Запрос возвращает количество книг для каждого автора."
   ]
  },
  {
   "cell_type": "code",
   "execution_count": 4,
   "id": "34ecf155",
   "metadata": {},
   "outputs": [
    {
     "name": "stdout",
     "output_type": "stream",
     "text": [
      "Результат запроса 1:\n",
      "[(3, 'Сто лет одиночества'), (5, 'Вино из одуванчиков')]\n",
      "\n",
      "Результат запроса 2:\n",
      "[('Антон Иванов', '451 градус по Фаренгейту'), ('Илья Соболев', 'Оливер Твист'), ('Антон Иванов', 'Сто лет одиночества'), ('Алексей Смирнов', '1984'), ('Антон Иванов', 'Оливер Твист'), ('Алексей Смирнов', 'Вино из одуванчиков')]\n",
      "\n",
      "Результат запроса 3:\n",
      "[('Габриэль Гарсия Маркес', 1), ('Джордж Оруэлл', 1), ('Рей Брэдбери', 2), ('Чарльз Диккенс', 2)]\n",
      "\n"
     ]
    }
   ],
   "source": [
    "# Выполняем запросы\n",
    "\n",
    "# Запрос 1\n",
    "query1 = '''SELECT Books.id, Books.title\n",
    "            FROM Books\n",
    "            INNER JOIN Records ON Books.id = Records.book_id\n",
    "            WHERE Records.returning_date IS NULL'''\n",
    "result1 = cursor.execute(query1).fetchall()\n",
    "print('Результат запроса 1:')\n",
    "print(result1)\n",
    "print()\n",
    "\n",
    "# Запрос 2\n",
    "query2 = '''SELECT Readers.name, Books.title\n",
    "            FROM Readers\n",
    "            INNER JOIN Records ON Readers.id = Records.reader_id\n",
    "            INNER JOIN Books ON Records.book_id = Books.id'''\n",
    "result2 = cursor.execute(query2).fetchall()\n",
    "print('Результат запроса 2:')\n",
    "print(result2)\n",
    "print()\n",
    "\n",
    "# Запрос 3\n",
    "query3 = '''SELECT Books.author, COUNT(Books.id)\n",
    "            FROM Books\n",
    "            INNER JOIN Records ON Books.id = Records.book_id\n",
    "            GROUP BY Books.author'''\n",
    "result3 = cursor.execute(query3).fetchall()\n",
    "print('Результат запроса 3:')\n",
    "print(result3)\n",
    "print()\n",
    "\n",
    "# Закрываем соединение с базой данных\n",
    "conn.close()"
   ]
  }
 ],
 "metadata": {
  "kernelspec": {
   "display_name": "Python 3 (ipykernel)",
   "language": "python",
   "name": "python3"
  },
  "language_info": {
   "codemirror_mode": {
    "name": "ipython",
    "version": 3
   },
   "file_extension": ".py",
   "mimetype": "text/x-python",
   "name": "python",
   "nbconvert_exporter": "python",
   "pygments_lexer": "ipython3",
   "version": "3.9.7"
  }
 },
 "nbformat": 4,
 "nbformat_minor": 5
}
